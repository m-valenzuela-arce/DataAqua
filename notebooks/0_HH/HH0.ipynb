{
 "cells": [
  {
   "cell_type": "code",
   "execution_count": 1,
   "id": "390e6da8-6bfd-410e-82b7-35d386a226cc",
   "metadata": {},
   "outputs": [
    {
     "name": "stdout",
     "output_type": "stream",
     "text": [
      "Uso de Agua Azul en Cultivo para los 140 días desde 11/30/2022: 3360.9673999999995 unidades\n"
     ]
    },
    {
     "name": "stderr",
     "output_type": "stream",
     "text": [
      "/scratch/mvalenzuela/89668/tmp.Ox4wupmrcY/ipykernel_23234/3347623109.py:36: SettingWithCopyWarning: \n",
      "A value is trying to be set on a copy of a slice from a DataFrame.\n",
      "Try using .loc[row_indexer,col_indexer] = value instead\n",
      "\n",
      "See the caveats in the documentation: https://pandas.pydata.org/pandas-docs/stable/user_guide/indexing.html#returning-a-view-versus-a-copy\n",
      "  df_periodo['Kc'] = 0\n",
      "/scratch/mvalenzuela/89668/tmp.Ox4wupmrcY/ipykernel_23234/3347623109.py:37: FutureWarning: Setting an item of incompatible dtype is deprecated and will raise an error in a future version of pandas. Value '0.15' has dtype incompatible with int64, please explicitly cast to a compatible dtype first.\n",
      "  df_periodo.loc[df_periodo.index < 45, 'Kc'] = kc_values['inicio']\n",
      "/scratch/mvalenzuela/89668/tmp.Ox4wupmrcY/ipykernel_23234/3347623109.py:42: SettingWithCopyWarning: \n",
      "A value is trying to be set on a copy of a slice from a DataFrame.\n",
      "Try using .loc[row_indexer,col_indexer] = value instead\n",
      "\n",
      "See the caveats in the documentation: https://pandas.pydata.org/pandas-docs/stable/user_guide/indexing.html#returning-a-view-versus-a-copy\n",
      "  df_periodo['ETc'] = df_periodo['Kc'] * df_periodo['ETO']\n",
      "/scratch/mvalenzuela/89668/tmp.Ox4wupmrcY/ipykernel_23234/3347623109.py:55: SettingWithCopyWarning: \n",
      "A value is trying to be set on a copy of a slice from a DataFrame.\n",
      "Try using .loc[row_indexer,col_indexer] = value instead\n",
      "\n",
      "See the caveats in the documentation: https://pandas.pydata.org/pandas-docs/stable/user_guide/indexing.html#returning-a-view-versus-a-copy\n",
      "  df_periodo['Precipitación efectiva'] = df_periodo['Precipitación (mm)'].apply(calcular_precip_efectiva)\n",
      "/scratch/mvalenzuela/89668/tmp.Ox4wupmrcY/ipykernel_23234/3347623109.py:58: SettingWithCopyWarning: \n",
      "A value is trying to be set on a copy of a slice from a DataFrame.\n",
      "Try using .loc[row_indexer,col_indexer] = value instead\n",
      "\n",
      "See the caveats in the documentation: https://pandas.pydata.org/pandas-docs/stable/user_guide/indexing.html#returning-a-view-versus-a-copy\n",
      "  df_periodo['ETazul'] = (df_periodo['ETc'] - df_periodo['Precipitación efectiva']).apply(lambda x: max(0, x))\n"
     ]
    }
   ],
   "source": [
    "import pandas as pd\n",
    "from datetime import datetime, timedelta\n",
    "\n",
    "# Cargar el dataset desde un archivo .xlsx\n",
    "df = pd.read_excel('Datos_15-11-22_al_30-05-23.xlsx')\n",
    "\n",
    "# Asegurarnos de que la columna 'Fecha' esté en formato de fecha\n",
    "df['Fecha'] = pd.to_datetime(df['Fecha'], format='%m/%d/%Y')\n",
    "\n",
    "# Ordenar el DataFrame por fecha\n",
    "df = df.sort_values('Fecha').reset_index(drop=True)\n",
    "\n",
    "# Definir los parámetros del cultivo (trigo)\n",
    "pcc = 140  # Periodo de crecimiento del cultivo en días\n",
    "kc_values = {\n",
    "    'inicio': 0.15,  # Kc inicial\n",
    "    'medio': 1.15,   # Kc medio\n",
    "    'final': 0.50    # Kc final\n",
    "}\n",
    "\n",
    "# Definir la fecha de inicio en el código\n",
    "fecha_inicio_str = \"11/30/2022\"  # Define aquí la fecha en formato mm/dd/aaaa\n",
    "fecha_inicio = datetime.strptime(fecha_inicio_str, '%m/%d/%Y')\n",
    "\n",
    "# Verificar si hay suficientes días para el periodo de cultivo\n",
    "fecha_fin = fecha_inicio + timedelta(days=pcc - 1)\n",
    "ultima_fecha = df['Fecha'].max()\n",
    "\n",
    "if fecha_fin > ultima_fecha:\n",
    "    print(f\"No hay suficientes datos para un periodo de {pcc} días desde la fecha de inicio {fecha_inicio_str}.\")\n",
    "else:\n",
    "    # Filtrar el DataFrame para el periodo de 140 días desde la fecha de inicio\n",
    "    df_periodo = df[(df['Fecha'] >= fecha_inicio) & (df['Fecha'] <= fecha_fin)]\n",
    "\n",
    "    # Asignar Kc a cada día según el periodo\n",
    "    df_periodo['Kc'] = 0\n",
    "    df_periodo.loc[df_periodo.index < 45, 'Kc'] = kc_values['inicio']\n",
    "    df_periodo.loc[(df_periodo.index >= 45) & (df_periodo.index < 95), 'Kc'] = kc_values['medio']\n",
    "    df_periodo.loc[df_periodo.index >= 95, 'Kc'] = kc_values['final']\n",
    "\n",
    "    # Calcular ETc (Evapotranspiración de cultivo)\n",
    "    df_periodo['ETc'] = df_periodo['Kc'] * df_periodo['ETO']\n",
    "\n",
    "    # Definir la función para calcular Precipitación efectiva\n",
    "    def calcular_precip_efectiva(precipitacion_total):\n",
    "        if precipitacion_total < 250:\n",
    "            # Cálculo de la precipitación efectiva cuando es menor a 250 mm\n",
    "            precip_efectiva = precipitacion_total * (125 - 0.2 * precipitacion_total) / 125\n",
    "        else:\n",
    "            # Cálculo de la precipitación efectiva cuando es mayor o igual a 250 mm\n",
    "            precip_efectiva = 125 + 0.1 * precipitacion_total\n",
    "        return precip_efectiva\n",
    "\n",
    "    # Calcular Precipitación efectiva para cada registro\n",
    "    df_periodo['Precipitación efectiva'] = df_periodo['Precipitación (mm)'].apply(calcular_precip_efectiva)\n",
    "\n",
    "    # Calcular ETazul (Evapotranspiración de agua azul)\n",
    "    df_periodo['ETazul'] = (df_periodo['ETc'] - df_periodo['Precipitación efectiva']).apply(lambda x: max(0, x))\n",
    "\n",
    "    # Calcular el uso de agua azul total en el periodo de 140 días\n",
    "    uso_agua_azul = 10 * df_periodo['ETazul'].sum()\n",
    "\n",
    "    # Mostrar el resultado\n",
    "    print(f\"Uso de Agua Azul en Cultivo para los {pcc} días desde {fecha_inicio_str}: {uso_agua_azul} unidades\")\n"
   ]
  },
  {
   "cell_type": "code",
   "execution_count": null,
   "id": "6caa444b-6449-4c7e-96f0-27ebba363dbe",
   "metadata": {},
   "outputs": [],
   "source": []
  }
 ],
 "metadata": {
  "kernelspec": {
   "display_name": "Python 3 (ipykernel)",
   "language": "python",
   "name": "python3"
  },
  "language_info": {
   "codemirror_mode": {
    "name": "ipython",
    "version": 3
   },
   "file_extension": ".py",
   "mimetype": "text/x-python",
   "name": "python",
   "nbconvert_exporter": "python",
   "pygments_lexer": "ipython3",
   "version": "3.12.3"
  }
 },
 "nbformat": 4,
 "nbformat_minor": 5
}
