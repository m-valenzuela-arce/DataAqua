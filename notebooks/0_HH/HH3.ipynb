{
 "cells": [
  {
   "cell_type": "code",
   "execution_count": 1,
   "id": "afc98365-9a54-44e1-ba7d-70c6b45cd0a7",
   "metadata": {},
   "outputs": [],
   "source": [
    "import pandas as pd\n",
    "from datetime import datetime, timedelta"
   ]
  },
  {
   "cell_type": "code",
   "execution_count": 2,
   "id": "5cef155b-7ea8-49ec-9b0b-6bfd2e0ca371",
   "metadata": {},
   "outputs": [],
   "source": [
    "# Cargar el dataset principal con los datos meteorológicos de las estaciones\n",
    "df_meteorologico = pd.read_excel('./Datos/REMAS_Etchojoa_Cajeme_2022-2023.xlsx')"
   ]
  },
  {
   "cell_type": "code",
   "execution_count": 5,
   "id": "849d45a2-2297-44aa-9168-e97374a982b3",
   "metadata": {},
   "outputs": [],
   "source": [
    "# Cargar el dataset con los valores de ETo\n",
    "df_eto = pd.read_excel('./Datos/ETo_REMAS_Etchojoa_Cajeme_2022-2023.xlsx')"
   ]
  },
  {
   "cell_type": "code",
   "execution_count": null,
   "id": "9d403c81-d11a-4421-8bb8-69cfeb585e48",
   "metadata": {},
   "outputs": [],
   "source": [
    "# Filtrar por el municipio y la estación deseada\n",
    "municipio_seleccionado = \"Cajeme\"  # Cambia el municipio aquí\n",
    "estacion_seleccionada = \"Estación_Ejemplo\"  # Cambia el nombre de la estación específica aquí\n",
    "\n",
    "df_meteorologico = df_meteorologico[\n",
    "    (df_meteorologico['Municipio'] == municipio_seleccionado) & \n",
    "    (df_meteorologico['Estación'] == estacion_seleccionada)\n",
    "]"
   ]
  },
  {
   "cell_type": "code",
   "execution_count": 5,
   "id": "390e6da8-6bfd-410e-82b7-35d386a226cc",
   "metadata": {},
   "outputs": [
    {
     "name": "stdout",
     "output_type": "stream",
     "text": [
      "Uso de Agua Verde en Cultivo para los 140 días desde 11/30/2022: 56.3126 m³/ha\n",
      "Uso de Agua Azul en Cultivo para los 140 días desde 11/30/2022: 3360.9673999999995 m³/ha\n",
      "Huella Hídrica de Agua Verde (HHproc, verde): 11.26252 m³/ton\n",
      "Huella Hídrica de Agua Azul (HHproc, azul): 672.1934799999999 m³/ton\n"
     ]
    }
   ],
   "source": [
    "# Renombrar las columnas en df_eto para facilitar la unión\n",
    "df_eto.rename(columns={'DDR': 'Estación', 'FECHA': 'Fecha'}, inplace=True)\n",
    "\n",
    "# Asegurarnos de que ambas columnas de fecha están en el mismo formato\n",
    "df_meteorologico['Fecha'] = pd.to_datetime(df_meteorologico['Fecha'], format='%m/%d/%Y')\n",
    "df_eto['Fecha'] = pd.to_datetime(df_eto['Fecha'], format='%m/%d/%Y')\n",
    "\n",
    "# Filtrar el DataFrame de ETo por la misma estación\n",
    "df_eto = df_eto[df_eto['Estación'] == estacion_seleccionada]\n",
    "\n",
    "# Unir ambos DataFrames en función de la estación (Estación) y la fecha (Fecha)\n",
    "df = pd.merge(df_meteorologico, df_eto[['Estación', 'Fecha', 'ETO']], on=['Estación', 'Fecha'], how='inner')\n",
    "\n",
    "# Definir los parámetros del cultivo (trigo)\n",
    "pcc = 140  # Periodo de crecimiento del cultivo en días\n",
    "kc_values = {\n",
    "    'inicio': 0.15,  # Kc inicial\n",
    "    'medio': 1.15,   # Kc medio\n",
    "    'final': 0.50    # Kc final\n",
    "}\n",
    "rendimiento = 5.0  # Ejemplo de rendimiento del cultivo en ton/ha\n",
    "\n",
    "# Definir la fecha de inicio en el código\n",
    "fecha_inicio_str = \"11/30/2022\"  # Cambia la fecha de inicio según el periodo deseado\n",
    "fecha_inicio = datetime.strptime(fecha_inicio_str, '%m/%d/%Y')\n",
    "\n",
    "# Verificar si hay suficientes días para el periodo de cultivo\n",
    "fecha_fin = fecha_inicio + timedelta(days=pcc - 1)\n",
    "ultima_fecha = df['Fecha'].max()\n",
    "\n",
    "if fecha_fin > ultima_fecha:\n",
    "    print(f\"No hay suficientes datos para un periodo de {pcc} días desde la fecha de inicio {fecha_inicio_str}.\")\n",
    "else:\n",
    "    # Filtrar el DataFrame para el periodo de 140 días desde la fecha de inicio y hacer una copia para evitar warnings\n",
    "    df_periodo = df[(df['Fecha'] >= fecha_inicio) & (df['Fecha'] <= fecha_fin)].copy()\n",
    "\n",
    "    # Crear y asignar la columna 'Kc' como float para evitar problemas de tipo de datos\n",
    "    df_periodo['Kc'] = 0.0\n",
    "    df_periodo.loc[df_periodo.index < 45, 'Kc'] = kc_values['inicio']\n",
    "    df_periodo.loc[(df_periodo.index >= 45) & (df_periodo.index < 95), 'Kc'] = kc_values['medio']\n",
    "    df_periodo.loc[df_periodo.index >= 95, 'Kc'] = kc_values['final']\n",
    "\n",
    "    # Calcular ETc (Evapotranspiración de cultivo)\n",
    "    df_periodo['ETc'] = df_periodo['Kc'] * df_periodo['ETO']\n",
    "\n",
    "    # Definir la función para calcular Precipitación efectiva\n",
    "    def calcular_precip_efectiva(precipitacion_total):\n",
    "        if precipitacion_total < 250:\n",
    "            # Cálculo de la precipitación efectiva cuando es menor a 250 mm\n",
    "            precip_efectiva = precipitacion_total * (125 - 0.2 * precipitacion_total) / 125\n",
    "        else:\n",
    "            # Cálculo de la precipitación efectiva cuando es mayor o igual a 250 mm\n",
    "            precip_efectiva = 125 + 0.1 * precipitacion_total\n",
    "        return precip_efectiva\n",
    "\n",
    "    # Calcular Precipitación efectiva para cada registro\n",
    "    df_periodo['Precipitación efectiva'] = df_periodo['Precipitación (mm)'].apply(calcular_precip_efectiva)\n",
    "\n",
    "    # Calcular ETverde (Evapotranspiración de agua verde)\n",
    "    df_periodo['ETverde'] = df_periodo[['ETc', 'Precipitación efectiva']].min(axis=1)\n",
    "\n",
    "    # Calcular ETazul (Evapotranspiración de agua azul)\n",
    "    df_periodo['ETazul'] = (df_periodo['ETc'] - df_periodo['Precipitación efectiva']).apply(lambda x: max(0, x))\n",
    "\n",
    "    # Calcular el uso de agua verde y agua azul total en el periodo de 140 días\n",
    "    uso_agua_verde = 10 * df_periodo['ETverde'].sum()  # m³/ha\n",
    "    uso_agua_azul = 10 * df_periodo['ETazul'].sum()    # m³/ha\n",
    "\n",
    "    # Calcular la Huella Hídrica en m³/ton para agua verde y agua azul\n",
    "    hh_proc_verde = uso_agua_verde / rendimiento\n",
    "    hh_proc_azul = uso_agua_azul / rendimiento\n",
    "\n",
    "    # Mostrar los resultados\n",
    "    print(f\"Uso de Agua Verde en Cultivo para los {pcc} días desde {fecha_inicio_str}: {uso_agua_verde} m³/ha\")\n",
    "    print(f\"Uso de Agua Azul en Cultivo para los {pcc} días desde {fecha_inicio_str}: {uso_agua_azul} m³/ha\")\n",
    "    print(f\"Huella Hídrica de Agua Verde (HHproc, verde): {hh_proc_verde} m³/ton\")\n",
    "    print(f\"Huella Hídrica de Agua Azul (HHproc, azul): {hh_proc_azul} m³/ton\")"
   ]
  },
  {
   "cell_type": "code",
   "execution_count": null,
   "id": "45bfa33d-d0fa-4bc1-ba00-4dfe0881a0b1",
   "metadata": {},
   "outputs": [],
   "source": []
  }
 ],
 "metadata": {
  "kernelspec": {
   "display_name": "Python 3 (ipykernel)",
   "language": "python",
   "name": "python3"
  },
  "language_info": {
   "codemirror_mode": {
    "name": "ipython",
    "version": 3
   },
   "file_extension": ".py",
   "mimetype": "text/x-python",
   "name": "python",
   "nbconvert_exporter": "python",
   "pygments_lexer": "ipython3",
   "version": "3.12.3"
  }
 },
 "nbformat": 4,
 "nbformat_minor": 5
}
